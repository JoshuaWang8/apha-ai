{
 "cells": [
  {
   "cell_type": "code",
   "execution_count": null,
   "metadata": {},
   "outputs": [],
   "source": [
    "import tensorflow as tf\n",
    "from keras.optimizers import Adam\n",
    "import pandas as pd\n",
    "import numpy as np\n",
    "from transformers import TFBartForConditionalGeneration, AutoTokenizer, BartTokenizerFast"
   ]
  },
  {
   "cell_type": "code",
   "execution_count": null,
   "metadata": {},
   "outputs": [],
   "source": [
    "# Original BART model\n",
    "tokenizer = BartTokenizerFast.from_pretrained(\"facebook/bart-base\")\n",
    "model = TFBartForConditionalGeneration.from_pretrained(\"facebook/bart-base\")\n",
    "\n",
    "# Testing the base model\n",
    "input_text = \"The tower is 324 metres (1,063 ft) tall, about the same height as an 81-storey building, and the tallest structure in Paris. Its base is square, measuring 125 metres (410 ft) on each side. During its construction, the Eiffel Tower surpassed the Washington Monument to become the tallest man-made structure in the world, a title it held for 41 years until the Chrysler Building in New York City was finished in 1930. It was the first structure to reach a height of 300 metres. Due to the addition of a broadcasting aerial at the top of the tower in 1957, it is now taller than the Chrysler Building by 5.2 metres (17 ft). Excluding transmitters, the Eiffel Tower is the second tallest free-standing structure in France after the Millau Viaduct.\"\n",
    "\n",
    "inputs = tokenizer(input_text, return_tensors=\"tf\", max_length=2**20, truncation=True)\n",
    "summary_ids = model.generate(inputs[\"input_ids\"])\n",
    "\n",
    "print(tokenizer.batch_decode(summary_ids, skip_special_tokens=True, clean_up_tokenization_spaces=False))"
   ]
  },
  {
   "cell_type": "code",
   "execution_count": 3,
   "metadata": {},
   "outputs": [],
   "source": [
    "# Load in data for fine tuning\n",
    "wiki_train = pd.read_csv(\"./datasets/pwkp.csv\")\n",
    "\n",
    "wiki_tokens_in = tokenizer(wiki_train[\"Original Data\"].tolist(), padding=True, return_tensors='np')\n",
    "wiki_tokens_out = tokenizer(wiki_train[\"Highlights Data\"].tolist(), padding=True, return_tensors='np')\n",
    "wiki_in = dict(wiki_tokens_in)\n",
    "wiki_out = dict(wiki_tokens_out)"
   ]
  },
  {
   "cell_type": "code",
   "execution_count": null,
   "metadata": {},
   "outputs": [],
   "source": [
    "model.compile(optimizer=Adam(3e-5))\n",
    "model.fit(wiki_in[\"input_ids\"], wiki_out[\"input_ids\"], epochs=1)"
   ]
  },
  {
   "cell_type": "code",
   "execution_count": null,
   "metadata": {},
   "outputs": [],
   "source": [
    "model.save(\"./\", save_format='tf')"
   ]
  }
 ],
 "metadata": {
  "kernelspec": {
   "display_name": "ml",
   "language": "python",
   "name": "python3"
  },
  "language_info": {
   "codemirror_mode": {
    "name": "ipython",
    "version": 3
   },
   "file_extension": ".py",
   "mimetype": "text/x-python",
   "name": "python",
   "nbconvert_exporter": "python",
   "pygments_lexer": "ipython3",
   "version": "3.7.0"
  },
  "orig_nbformat": 4
 },
 "nbformat": 4,
 "nbformat_minor": 2
}
