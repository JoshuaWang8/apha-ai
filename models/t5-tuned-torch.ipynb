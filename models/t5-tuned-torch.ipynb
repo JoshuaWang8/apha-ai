{
 "cells": [
  {
   "cell_type": "code",
   "execution_count": 30,
   "metadata": {},
   "outputs": [],
   "source": [
    "import torch\n",
    "from torch.utils.data import Dataset\n",
    "from transformers import T5ForConditionalGeneration, T5Tokenizer, Seq2SeqTrainer, Seq2SeqTrainingArguments\n",
    "import pandas as pd"
   ]
  },
  {
   "cell_type": "code",
   "execution_count": 54,
   "metadata": {},
   "outputs": [],
   "source": [
    "tokenizer = T5Tokenizer.from_pretrained('t5-small')\n",
    "model = T5ForConditionalGeneration.from_pretrained('t5-small')\n",
    "# tokenizer.save_vocabulary('./')"
   ]
  },
  {
   "cell_type": "code",
   "execution_count": 11,
   "metadata": {},
   "outputs": [],
   "source": [
    "data = pd.read_csv('cnn-dm.csv')"
   ]
  },
  {
   "cell_type": "code",
   "execution_count": 12,
   "metadata": {},
   "outputs": [],
   "source": [
    "class CustomDataset(Dataset):\n",
    "    def __init__(self, data, tokenizer, max_in_length=1024, max_out_length=512):\n",
    "        self.data = data\n",
    "        self.tokenizer = tokenizer\n",
    "        self.max_in_length = max_in_length\n",
    "        self.max_out_length = max_out_length\n",
    "\n",
    "    def __len__(self):\n",
    "        return len(self.data)\n",
    "    \n",
    "    def __getitem__(self, idx):\n",
    "        in_text = 'summarize:' + self.data.iloc[idx][\"Original\"]\n",
    "        out_text = self.data.iloc[idx][\"Summary\"]\n",
    "\n",
    "        in_encoding = self.tokenizer(\n",
    "            in_text,\n",
    "            max_length=self.max_in_length,\n",
    "            padding='max_length',\n",
    "            truncation=True,\n",
    "            return_tensors='pt'\n",
    "        )\n",
    "\n",
    "        out_encoding = self.tokenizer(\n",
    "            out_text,\n",
    "            max_length=self.max_out_length,\n",
    "            padding='max_length',\n",
    "            truncation=True,\n",
    "            return_tensors='pt'\n",
    "        )\n",
    "\n",
    "        return {\n",
    "            \"input_ids\": in_encoding[\"input_ids\"].squeeze(),\n",
    "            \"attention_mask\": in_encoding[\"attention_mask\"].squeeze(),\n",
    "            \"decoder_input_ids\": out_encoding[\"input_ids\"].squeeze(),\n",
    "            \"labels\": out_encoding[\"input_ids\"].squeeze()\n",
    "        }\n",
    "    \n",
    "train_dataset = CustomDataset(data, tokenizer)"
   ]
  },
  {
   "cell_type": "code",
   "execution_count": 55,
   "metadata": {},
   "outputs": [
    {
     "name": "stdout",
     "output_type": "stream",
     "text": [
      "over 100 stalls line the streets, offering a range of goods from exotic spices to mouthwatering street food. the market is a sensory delight, with the aroma of sizzling kebabs wafting through the air, colorful textiles swaying in the breeze and talented musicians playing on every corner.\n"
     ]
    }
   ],
   "source": [
    "# Try summarizing with base model\n",
    "input_ids = tokenizer.encode(\"summarize: In the heart of a bustling metropolis, a vibrant street market comes to life every weekend, attracting thousands of visitors. Over 100 stalls line the streets, offering a diverse range of goods, from exotic spices and handmade crafts to mouthwatering street food. The market is a sensory delight, with the aroma of sizzling kebabs wafting through the air, colorful textiles swaying in the breeze, and talented musicians playing on every corner. Families with children, tourists, and locals alike, totaling 10,000+ people, mingle to create a lively and diverse community atmosphere. As the sun sets, the market takes on a magical glow, with 500+ strings of twinkling lights illuminating the pathways. It's a place where cultures converge, and the world's flavors and traditions blend harmoniously! Visitors leave with full hearts and bags of unique treasures, having experienced the enchanting tapestry of this vibrant market!\", return_tensors=\"pt\", add_special_tokens=True)\n",
    "generated_ids = model.generate(input_ids, num_beams=2, max_length=128,  repetition_penalty=2.5, length_penalty=1.0, early_stopping=True)\n",
    "preds = [tokenizer.decode(g, skip_special_tokens=True, clean_up_tokenization_spaces=True) for g in generated_ids]\n",
    "print(preds[0])"
   ]
  },
  {
   "cell_type": "code",
   "execution_count": null,
   "metadata": {},
   "outputs": [],
   "source": [
    "# Saves base model\n",
    "model.to('cpu')\n",
    "model.eval()\n",
    "\n",
    "example_input = tokenizer(\n",
    "    \"summarize: In the heart of a bustling metropolis, a vibrant street market comes to life every weekend, attracting thousands of visitors. Over 100 stalls line the streets, offering a diverse range of goods, from exotic spices and handmade crafts to mouthwatering street food. The market is a sensory delight, with the aroma of sizzling kebabs wafting through the air, colorful textiles swaying in the breeze, and talented musicians playing on every corner. Families with children, tourists, and locals alike, totaling 10,000+ people, mingle to create a lively and diverse community atmosphere. As the sun sets, the market takes on a magical glow, with 500+ strings of twinkling lights illuminating the pathways. It's a place where cultures converge, and the world's flavors and traditions blend harmoniously! Visitors leave with full hearts and bags of unique treasures, having experienced the enchanting tapestry of this vibrant market!\",\n",
    "    return_tensors='pt', max_length=1024, truncation=True\n",
    ")\n",
    "\n",
    "dummy_input = {\n",
    "    'input_ids': example_input['input_ids'],\n",
    "    'attention_mask': example_input['attention_mask'],\n",
    "    'decoder_input_ids': example_input['input_ids']\n",
    "}\n",
    "\n",
    "torch.onnx.export(model, dummy_input, f='t5-small.onnx')"
   ]
  },
  {
   "cell_type": "code",
   "execution_count": 17,
   "metadata": {},
   "outputs": [],
   "source": [
    "training_args = Seq2SeqTrainingArguments(\n",
    "    per_device_train_batch_size=4,\n",
    "    output_dir='./bart-fine-tuned',\n",
    "    save_steps=1000,\n",
    "    num_train_epochs=1,\n",
    "    overwrite_output_dir=True,\n",
    "    logging_dir='./logs'\n",
    ")"
   ]
  },
  {
   "cell_type": "code",
   "execution_count": 18,
   "metadata": {},
   "outputs": [],
   "source": [
    "trainer = Seq2SeqTrainer(\n",
    "    model=model,\n",
    "    args=training_args,\n",
    "    data_collator=None,\n",
    "    train_dataset=train_dataset\n",
    ")"
   ]
  },
  {
   "cell_type": "code",
   "execution_count": null,
   "metadata": {},
   "outputs": [],
   "source": [
    "trainer.train()\n",
    "\n",
    "# Save fine-tuned model\n",
    "model.to('cpu')\n",
    "model.eval()\n",
    "\n",
    "example_input = tokenizer(\n",
    "    \"summarize: In the heart of a bustling metropolis, a vibrant street market comes to life every weekend, attracting thousands of visitors. Over 100 stalls line the streets, offering a diverse range of goods, from exotic spices and handmade crafts to mouthwatering street food. The market is a sensory delight, with the aroma of sizzling kebabs wafting through the air, colorful textiles swaying in the breeze, and talented musicians playing on every corner. Families with children, tourists, and locals alike, totaling 10,000+ people, mingle to create a lively and diverse community atmosphere. As the sun sets, the market takes on a magical glow, with 500+ strings of twinkling lights illuminating the pathways. It's a place where cultures converge, and the world's flavors and traditions blend harmoniously! Visitors leave with full hearts and bags of unique treasures, having experienced the enchanting tapestry of this vibrant market!\",\n",
    "    return_tensors='pt', max_length=1024, truncation=True\n",
    ")\n",
    "\n",
    "dummy_input = {\n",
    "    'input_ids': example_input['input_ids'],\n",
    "    'attention_mask': example_input['attention_mask'],\n",
    "    'decoder_input_ids': example_input['input_ids']\n",
    "}\n",
    "\n",
    "torch.onnx.export(model, dummy_input, f='t5-tuned.onnx')"
   ]
  }
 ],
 "metadata": {
  "kernelspec": {
   "display_name": "torch-gpu",
   "language": "python",
   "name": "python3"
  },
  "language_info": {
   "codemirror_mode": {
    "name": "ipython",
    "version": 3
   },
   "file_extension": ".py",
   "mimetype": "text/x-python",
   "name": "python",
   "nbconvert_exporter": "python",
   "pygments_lexer": "ipython3",
   "version": "3.11.5"
  },
  "orig_nbformat": 4
 },
 "nbformat": 4,
 "nbformat_minor": 2
}
